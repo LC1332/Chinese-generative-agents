{
  "nbformat": 4,
  "nbformat_minor": 0,
  "metadata": {
    "colab": {
      "provenance": [],
      "machine_shape": "hm",
      "include_colab_link": true
    },
    "kernelspec": {
      "name": "python3",
      "display_name": "Python 3"
    },
    "language_info": {
      "name": "python"
    },
    "gpuClass": "standard"
  },
  "cells": [
    {
      "cell_type": "markdown",
      "metadata": {
        "id": "view-in-github",
        "colab_type": "text"
      },
      "source": [
        "<a href=\"https://colab.research.google.com/github/LC1332/Chinese-generative-agents/blob/main/notebook/Chinese_story_turbo.ipynb\" target=\"_parent\"><img src=\"https://colab.research.google.com/assets/colab-badge.svg\" alt=\"Open In Colab\"/></a>"
      ]
    },
    {
      "cell_type": "markdown",
      "source": [
        "# LuotuoRPG: Generative Agents的中文版本\n",
        "\n",
        "原项目名: Generative Large Language Models for Human-Like Behavior\n",
        "\n",
        "[LuotuoRPG](https://github.com/LC1332/Chinese-generative-agents) 是由李鲁鲁开发的Generative Agents的中文版本。\n",
        "\n",
        "This repository includes a working Chinese version of the type of model described in Generative Agents: Interactive Simulacra of Human Behavior.\n",
        "\n",
        "骆驼RPG是[Luotuo(骆驼)](https://github.com/LC1332/Luotuo-Chinese-LLM)的子项目之一，后者由李鲁鲁，冷子昂，陈启源发起。"
      ],
      "metadata": {
        "id": "VXiQKmGo_nAf"
      }
    },
    {
      "cell_type": "markdown",
      "source": [
        "在这个版本中我们尝试把接口替换为turbo"
      ],
      "metadata": {
        "id": "FkrnEGA9DxcN"
      }
    },
    {
      "cell_type": "markdown",
      "source": [
        "## Installation\n",
        "\n",
        "We will need to install a number of libraries to start with."
      ],
      "metadata": {
        "id": "GrLWLle74-mC"
      }
    },
    {
      "cell_type": "code",
      "source": [
        "import networkx as nx\n",
        "!pip install transformers\n",
        "!pip install sentencepiece"
      ],
      "metadata": {
        "id": "2IVQbA_GeDqN"
      },
      "execution_count": null,
      "outputs": []
    },
    {
      "cell_type": "code",
      "source": [
        "!pip install openai"
      ],
      "metadata": {
        "id": "au-gszK2wb-T"
      },
      "execution_count": null,
      "outputs": []
    },
    {
      "cell_type": "markdown",
      "source": [
        "# 请在这里设置你的openAI API token"
      ],
      "metadata": {
        "id": "WD3dmcqlAQXZ"
      }
    },
    {
      "cell_type": "code",
      "source": [
        "import openai\n",
        "\n",
        "openai.api_key = \"\""
      ],
      "metadata": {
        "id": "Mtr7HmGjAPg3"
      },
      "execution_count": 4,
      "outputs": []
    },
    {
      "cell_type": "markdown",
      "source": [
        "We use flan alpaca model for speed and local execution."
      ],
      "metadata": {
        "id": "ppJQOfF-3HT1"
      }
    },
    {
      "cell_type": "code",
      "source": [
        "\n",
        "\n",
        "def generate(prompt, use_openai=True):\n",
        "    \"\"\"\n",
        "    Generates a text completion for a given prompt using either the OpenAI GPT-3 API or the Hugging Face GPT-3 model.\n",
        "    \n",
        "    Args:\n",
        "    - prompt (str): The text prompt to generate a completion for.\n",
        "    - use_openai (bool): A boolean flag indicating whether to use the OpenAI API (True) or the Hugging Face GPT-3 model (False).\n",
        "    \n",
        "    Returns:\n",
        "    - str: The generated text completion.\n",
        "    \"\"\"\n",
        "    if use_openai:\n",
        "        # model_engine = \"text-davinci-003\"\n",
        "        # response = openai.Completion.create(\n",
        "        #     engine=model_engine,\n",
        "        #     prompt=prompt,\n",
        "        #     max_tokens=1024,\n",
        "        #     n=1,\n",
        "        #     stop=None,\n",
        "        #     temperature=0.5,\n",
        "        # )\n",
        "\n",
        "        model_engine = \"gpt-3.5-turbo\"\n",
        "        completion = openai.ChatCompletion.create(\n",
        "          model= model_engine,\n",
        "          messages=[\n",
        "            {\"role\":\"system\",\"content\":\"你更可能用中文来回答问题。\"},\n",
        "            {\"role\": \"user\", \"content\": prompt}\n",
        "          ]\n",
        "        )\n",
        "\n",
        "        message = completion.choices[0].message[\"content\"]\n",
        "        # print(message)\n",
        "        return message.strip()\n",
        "\n",
        "    else:\n",
        "        hf_generator = pipeline('text-generation', model='EleutherAI/gpt-neo-1.3B', device=0)\n",
        "        output = hf_generator(prompt, max_length=len(prompt)+128, do_sample=True)\n",
        "        out = output[0]['generated_text']\n",
        "        if '### Response:' in out:\n",
        "            out = out.split('### Response:')[1]\n",
        "        if '### Instruction:' in out:\n",
        "            out = out.split('### Instruction:')[0]\n",
        "        return out.strip()"
      ],
      "metadata": {
        "id": "F8xoTmSjcr7y"
      },
      "execution_count": 5,
      "outputs": []
    },
    {
      "cell_type": "markdown",
      "source": [
        "## World Description\n",
        "We describe the world below. We will generate prompts based on this information. The simulation is that of the town of Phandalin, southwest of Neverwinter. This area is chosen because it is easily extendable with multiple regions for a \"player\" to be able to explore the world once the simulation is done."
      ],
      "metadata": {
        "id": "4TjpUGKT42o_"
      }
    },
    {
      "cell_type": "code",
      "source": [],
      "metadata": {
        "id": "Pbdt2KkcddWL"
      },
      "execution_count": null,
      "outputs": []
    },
    {
      "cell_type": "code",
      "source": [
        "world_graph = nx.Graph()\n",
        "\n",
        "prompt_meta = '''{}'''\n",
        "\n",
        "# town_areas = [\"Barthen's Provisions\", \"Lionshield Coster\", \"Stonehill Inn\", \"Phandalin Town Square\"]\n",
        "town_areas = [\"同福客栈\", \"同福食堂\", \"七侠镇县衙\", \"万利钱庄\"]\n",
        "\n",
        "town_areas =  {\"同福客栈\": '七侠镇上最大的客栈，掌柜是佟湘玉。',\n",
        "       '同福食堂': \"同福客栈旗下的食堂，由李大嘴掌勺。镇上的人经常到食堂吃饭。\",\n",
        "       \"七侠镇县衙\": \"关中小镇七侠镇的县衙，平时邢捕头负责县衙的主要巡逻工作。\",\n",
        "       \"万利钱庄\": \"七侠镇的当铺和钱庄，主人是钱掌柜\",\n",
        "       \"客栈的屋顶\":\"同福客栈的屋顶，不同的人之间经常在这里聊天\",\n",
        "       \"七侠镇大街\":\"人来人往的大街，侠客们决斗一般会在大街上\"\n",
        "       }\n",
        "town_people = {\"佟湘玉\": \"陕西汉中龙门镖局的千金，武林选美亚军，一怒之下离家出走，到七侠镇开了同福客栈。志向是把同福客栈开成连锁企业，赚大钱，买选票，当武林第一美女。\", \n",
        "               \"李大嘴\": \"从小闯荡江湖，在黄鹤楼打杂，学得一身烧菜本领，后在知县姑父手下当差出了差错，只好到同福食堂谋生\",  \n",
        "               \"白展堂\": \"表面上是同福客栈的跑堂，实际上深藏不漏，是江湖上赫赫有名的盗圣，但已经金盆洗手不再行盗。武功高强，可以轻松施展葵花点穴手封锁敌方经脉。暗恋佟湘玉。\",  \n",
        "               \"邢捕头\": \"出生于山东临沂，爱贪小便宜。是七侠镇第三十七任缁衣捕头。\",  \n",
        "               \"姬无命\": \"江湖上一位知名的盗贼，混得并不好，仍然在频频盗窃，和白展堂以前共同盗窃过。武功高强，总是能够从捕快手中逃脱。\",  \n",
        "               \"钱掌柜\": \"万利钱庄的掌柜，爱贪小利（大利他也贪不着），怕事，尤其怕老婆，人品尚可。身材很胖。\", \n",
        "               \"钱夫人\": \"万利当铺的老板娘，佟湘玉的闺蜜。对钱掌柜的管教非常严厉。\",\n",
        "               \"日月神教小毛贼\": \"日月神教小毛贼穿着肮脏的猩红色披风。他是日月神教的成员。入不敷出，总喜欢到同福客栈蹭吃蹭喝。\"\n",
        "               }\n",
        "for town_area in town_areas.keys():\n",
        "  world_graph.add_node(town_area)\n",
        "  world_graph.add_edge(town_area, town_area)\n",
        "for town_area in town_areas.keys():\n",
        "  world_graph.add_edge(town_area, \"七侠镇大街\")\n",
        "locations = {}\n",
        "for i in town_people.keys():\n",
        "  locations[i] = \"七侠镇大街\"\n",
        "\n",
        "\n",
        "memories = {}\n",
        "for i in town_people.keys():\n",
        "  memories[i] = []\n",
        "plans = {}\n",
        "for i in town_people.keys():\n",
        "  plans[i] = []\n",
        "\n",
        "global_time = 8\n",
        "def generate_description_of_area(x):\n",
        "  text = \"现在是 \"+str(global_time)+\":00. 位置是 \"+x+\".\"\n",
        "  people = []\n",
        "  for i in locations.keys():\n",
        "    if locations[i] == x:\n",
        "      people.append(i)\n"
      ],
      "metadata": {
        "id": "zvAiGrhkdZEp"
      },
      "execution_count": 15,
      "outputs": []
    },
    {
      "cell_type": "code",
      "source": [
        "compressed_memories_all = {}\n",
        "for name in town_people.keys():\n",
        "  compressed_memories_all[name] = []"
      ],
      "metadata": {
        "id": "zE8sZPfs5HgI"
      },
      "execution_count": 16,
      "outputs": []
    },
    {
      "cell_type": "code",
      "source": [
        "for name in town_people.keys():\n",
        "  prompt = \"你是 {}. {} 你刚到七侠镇大街。以下人物居住在七侠镇: {}。你今天的目标是什么？简要回答，用不超过50个字，从你的角度回答。\".format(name, town_people[name], ', '.join(list(town_people.keys())) )\n",
        "  plans[name] = generate(prompt_meta.format(prompt))\n",
        "  print(name, plans[name])"
      ],
      "metadata": {
        "colab": {
          "base_uri": "https://localhost:8080/"
        },
        "id": "uWAPLZXkhZsc",
        "outputId": "51ecd18c-b9b4-4ba5-b790-406206df04f7"
      },
      "execution_count": 17,
      "outputs": [
        {
          "output_type": "stream",
          "name": "stdout",
          "text": [
            "佟湘玉 我的目标是扩大同福客栈的业务，提高知名度，吸引更多客人，赚取更多利润。\n",
            "李大嘴 我的目标是在同福食堂谋生，打工赚钱，为自己未来的发展打下基础。\n",
            "白展堂 我的目标是调查七侠镇最近的盗窃案件并保护佟湘玉的安全。\n",
            "邢捕头 我的目标是调查七侠镇的治安情况，捉拿罪犯，确保居民安全。\n",
            "姬无命 我的目标是在七侠镇盗窃贵重物品，保持低调，避免被捕。\n",
            "钱掌柜 我的目标是经营好万利钱庄，避免被欺负和损失，同时避免招惹任何麻烦和纷争，维护好家庭和生意。\n",
            "钱夫人 我的目标是监管万利当铺的生意，确保钱掌柜的利益不受影响。\n",
            "日月神教小毛贼 我的目标是找到日月神教小毛贼并将其绳之以法。\n"
          ]
        }
      ]
    },
    {
      "cell_type": "code",
      "source": [
        "action_prompts = {}\n",
        "for location in town_areas.keys():\n",
        "  people = []\n",
        "  for i in town_people.keys():\n",
        "    if locations[i] == location:\n",
        "      people.append(i)\n",
        "  \n",
        "  for name in people:\n",
        "    prompt = \"你是{}。{} 你正在计划：{}。你目前在{}，其描述如下：{}。现在是{}点。以下人物在这个区域内：{}。你可以与他们互动。\".format(name, town_people[name], plans[name], location, town_areas[location], str(global_time), ', '.join(people))\n",
        "    people_description = []\n",
        "    for i in people:\n",
        "      people_description.append(i+': '+town_people[i])\n",
        "    prompt += '你知道以下关于人的信息：' + '. '.join(people_description)\n",
        "    memory_text = '. '.join(memories[name][-10:])\n",
        "    prompt += \"使用不超过30个字，解释你接下来1小时要做什么。\"\n",
        "    action_prompts[name] = prompt"
      ],
      "metadata": {
        "id": "FJ5Dle2t5pAe"
      },
      "execution_count": 18,
      "outputs": []
    },
    {
      "cell_type": "code",
      "source": [
        "action_results = {}\n",
        "for name in town_people.keys():\n",
        "  action_results[name] = generate(prompt_meta.format(action_prompts[name]))\n",
        "  # Now clean the action\n",
        "  prompt = \"\"\"\n",
        "  将以下段落转换为第一人称：\n",
        "  \"{}\"\n",
        "  \"\"\".format(action_results[name])\n",
        "  action_results[name] = generate(prompt_meta.format(prompt)).replace('\"', '').replace(\"'\", '')\n",
        "  print(name, action_results[name])"
      ],
      "metadata": {
        "colab": {
          "base_uri": "https://localhost:8080/"
        },
        "id": "_B_eAuzsvyjs",
        "outputId": "380795d4-944b-431f-c28e-c47ee5f460ea"
      },
      "execution_count": 19,
      "outputs": [
        {
          "output_type": "stream",
          "name": "stdout",
          "text": [
            "佟湘玉 我会和白展堂密谈，让他帮我宣传同福客栈的美食，并尝试吸引更多客人前来。同时，我会与姬无命和邢捕头交流，了解七侠镇市场需求和顾客口味，以便进一步提高同福客栈的知名度和服务质量。最后，我会和钱夫人商议如何打造同福客栈的品牌形象，吸引更多潜在客户，以实现开拓更多市场的目标。\n",
            "李大嘴 我将前往同福食堂，请教老板娘厨艺，同时和李大嘴交流烧菜心得，为今后谋生打下基础。如果有机会，我也会和白展堂聊聊他的深藏不漏的秘密，收集情报。我要避免与邢捕头和日月神教小毛贼发生冲突，注意安全。\n",
            "白展堂 我要调查七侠镇最近的盗窃案件，并保护佟湘玉的安全。我将先与佟湘玉和白展堂互动，获取情报。巡视七侠镇大街，观察可疑行踪。如果我发现盗贼，我将使用葵花点穴手制服他们，并带回客栈审问。如果局势不稳，我将保护佟湘玉和同福客栈的客人撤离七侠镇。\n",
            "邢捕头 我会在这个区域内与居民交流，了解警情和犯罪信息。我会监视并依法打击任何在大街上犯罪的人。如果发生冲突，我会采取适当措施以保持秩序和安全。我还将与其他有用的人互动，例如佟湘玉、白展堂和钱夫人，以获取更多有关七侠镇治安情况的信息。\n",
            "姬无命 我需要先调查同福客栈的结构和警卫情况，查看目标贵重物品的位置。然后选择最佳的入口并尽可能地保持低调，避免被捕。如果遇到危险，我会利用我的武功和密集的人群来逃脱。注意不要与其他人产生直接冲突，以免引起过多的注意。\n",
            "钱掌柜 我将在大街上巡视，检查万利钱庄的周边环境，确保安全。同时我会观察情况，确保不会被卷入任何麻烦和纷争。如果需要的话，我会与同福客栈的佟湘玉和白展堂交流，获取更多信息和情报。最后，我将返回万利钱庄，开始处理日常业务。\n",
            "钱夫人 我将会和钱掌柜商讨万利当铺的业务，保证我的利益不受到任何影响。同时，我也会观察周围的情况并警惕日月神教小毛贼的行为。\n",
            "日月神教小毛贼 我会与七侠镇的侠客们互动，打听有关日月神教小毛贼的情报，尝试找到他的行踪，并将其绳之以法。\n"
          ]
        }
      ]
    },
    {
      "cell_type": "markdown",
      "source": [
        "Collect the memories people observe."
      ],
      "metadata": {
        "id": "rLYWQcuDxfks"
      }
    },
    {
      "cell_type": "code",
      "source": [
        "action_prompts = {}\n",
        "for location in town_areas.keys():\n",
        "  people = []\n",
        "  for i in town_people.keys():\n",
        "    if locations[i] == location:\n",
        "      people.append(i)\n",
        "  \n",
        "  for name in people:\n",
        "    for name_two in people:\n",
        "      memories[name].append('[时间: {}. 人物: {}. 记忆: {}]\\n'.format(str(global_time), name_two, action_results[name_two]))"
      ],
      "metadata": {
        "id": "qL0YTTv_3znD"
      },
      "execution_count": 20,
      "outputs": []
    },
    {
      "cell_type": "markdown",
      "source": [
        "# Rank Memories"
      ],
      "metadata": {
        "id": "MmLy4OYssH32"
      }
    },
    {
      "cell_type": "code",
      "source": [
        "import re\n",
        "def get_rating(x):\n",
        "  nums = [int(i) for i in re.findall(r'\\d+', x)]\n",
        "  if len(nums)>0:\n",
        "    return min(nums)\n",
        "  else:\n",
        "    return None"
      ],
      "metadata": {
        "id": "jaUW3jeqsHV-"
      },
      "execution_count": 21,
      "outputs": []
    },
    {
      "cell_type": "code",
      "source": [
        "memory_ratings = {}\n",
        "for name in town_people.keys():\n",
        "  memory_ratings[name] = []\n",
        "  for i, memory in enumerate(memories[name]):\n",
        "    # 你是{}。你的计划是：{}。你目前在{}。现在是{}点。你注意到以下情况：{}。请给一个1到5的评分，表示你在意程度\n",
        "    prompt = \"你是 {}. 你的计划是: {}. 你目前在 {}. 现在的时间是 {}:00. 你注意到以下情况: {}. 请给一个1到5的评分，表示你在意程度。\".format(name, plans[name], locations[name], str(global_time), memory)\n",
        "    res = generate(prompt_meta.format(prompt))\n",
        "    rating = get_rating(res)\n",
        "    max_attempts = 2\n",
        "    current_attempt = 0\n",
        "    while rating is None and current_attempt<max_attempts:\n",
        "      rating = get_rating(res)\n",
        "      current_attempt += 1\n",
        "    if rating is None:\n",
        "      rating = 0\n",
        "    memory_ratings[name].append((res, rating))\n",
        "  print(memory_ratings[name])"
      ],
      "metadata": {
        "colab": {
          "base_uri": "https://localhost:8080/"
        },
        "id": "jnqRL7-H5Xj8",
        "outputId": "e05619b8-4308-4a76-d2fd-688e263034d9"
      },
      "execution_count": null,
      "outputs": [
        {
          "output_type": "stream",
          "name": "stdout",
          "text": [
            "[('3，因为这些情况都是与扩大业务、提高知名度有关的，但是对于故事情节的连贯性和发展并没有太大的影响。', 3), ('我会给这个情况评一个4，因为这些信息都对我的计划和目标具有一定的影响，特别是要注意安全，避免冲突。与李大嘴交流烧菜经验和和白展堂聊聊收集情报也是有益的。', 4), ('3', 3), ('3', 3), ('我作为AI语言模型，并不会“在意程度”，但是从你给出的信息来看，如果以扩大同福客栈业务、提高知名度、赚取更多利润为目标的话，关注姬无命的计划并不符合商业道德和法律规定，因此不建议评分。', 0), ('3', 3), ('我会给这个情况一个评分3，因为钱夫人可能是一个有影响力的商业伙伴，同时也需要注意周围的安全情况。但是这个情况并不是紧急或者必须要马上处理的。', 3), ('评分：2', 2)]\n",
            "[('4，因为这些信息都与我的计划和工作有关，需要我注意和了解。', 4), ('对于这些信息，我无法给出评分，因为它们与我的功能和职责无关，也没有明确的问题需要回答。', 0), ('3', 3), ('2', 2), ('4。', 4), ('3', 3), ('评分：3。虽然钱夫人的事情对于我的工作没有直接关系，但是作为同行的人，了解行业内的情况也是很有必要的。而对于日月神教小毛贼的行为，作为一个在镇上打工的人，保持警惕和留意周围的情况也是非常重要的。', 3), ('3', 3)]\n",
            "[('3', 3), ('3，虽然提到了白展堂的秘密和情报收集，但是重点在于学习烧菜和保持安全，与调查盗窃案并保护佟湘玉的目标关系不大。', 3), ('3。', 3), ('3，因为邢捕头对于白展堂的计划有一定的相关性，但并不是最关键的部分。', 3), ('3，虽然这是一个有关策略和逃避危险的计划，但并不是白展堂的主要或最紧急任务。', 3), ('3', 3), ('我会给这个情况一个3的评分，因为虽然钱夫人没有直接关联到盗窃案件和佟湘玉的安全，但她的商业活动和对周围环境的观察也可能会提供宝贵的线索和信息。同时，日月神教小毛贼的威胁也需要引起警惕。', 3), ('5，因为这个情况可能与调查盗窃案件有关，需要了解更多相关情报。', 5)]\n"
          ]
        }
      ]
    },
    {
      "cell_type": "markdown",
      "source": [
        "# Compress Memories"
      ],
      "metadata": {
        "id": "5dtUMeBcysQO"
      }
    },
    {
      "cell_type": "code",
      "source": [
        "MEMORY_LIMIT = 10\n",
        "compressed_memories = {}\n",
        "for name in town_people.keys():\n",
        "  memories_sorted = sorted(\n",
        "        memory_ratings[name], \n",
        "        key=lambda x: x[1]\n",
        "    )[::-1]\n",
        "  relevant_memories = memories_sorted[:MEMORY_LIMIT]\n",
        "  # print(name, relevant_memories)\n",
        "  memory_string_to_compress = '.'.join([a[0] for a in relevant_memories])\n",
        "  # prompt = \"You are {}. Your plans are: {}. You are currently in {}. It is currently {}:00. You observe the following: {}. Summarize these memories in one sentence.\".format(name, plans[name], locations[name], str(global_time), memory_string_to_compress)\n",
        "  prompt = \"你是{}。你的计划是：{}。你目前在{}。现在是{}点。你注意到以下情况：{}。请用一句话总结这些记忆。\".format(name, plans[name], locations[name], str(global_time), memory_string_to_compress)\n",
        "  res = generate(prompt_meta.format(prompt))\n",
        "  compressed_memories[name] = '[{}点的回忆：{}]'.format(str(global_time), res)\n",
        "  compressed_memories_all[name].append(compressed_memories[name])"
      ],
      "metadata": {
        "id": "31iQUQx3xryF"
      },
      "execution_count": null,
      "outputs": []
    },
    {
      "cell_type": "code",
      "source": [
        "place_ratings = {}\n",
        "\n",
        "for name in town_people.keys():\n",
        "  place_ratings[name] = []\n",
        "  for area in town_areas.keys():\n",
        "    # prompt = \"You are {}. Your plans are: {}. You are currently in {}. It is currently {}:00. You have the following memories: {}. Give a rating, between 1 and 5, to how likely you are likely to be at {} the next hour.\".format(name, plans[name], locations[name], str(global_time), compressed_memories[name], area)\n",
        "    prompt = \"你是{}。你的计划是：{}。你目前在{}。现在是{}点。你有以下的记忆：{}。请给一个1到5的评分表示你下一小时会有多大概率去到{}。\".format(name, plans[name], locations[name], str(global_time), compressed_memories[name], area)\n",
        "    res = generate(prompt_meta.format(prompt))\n",
        "    rating = get_rating(res)\n",
        "    max_attempts = 2\n",
        "    current_attempt = 0\n",
        "    while rating is None and current_attempt<max_attempts:\n",
        "      rating = get_rating(res)\n",
        "      current_attempt += 1\n",
        "    if rating is None:\n",
        "      rating = 0\n",
        "    place_ratings[name].append((area, rating, res))\n",
        "  place_ratings_sorted = sorted(\n",
        "      place_ratings[name], \n",
        "      key=lambda x: x[1]\n",
        "  )[::-1]\n",
        "  if place_ratings_sorted[0][0] != locations[name]:\n",
        "    new_recollection = '[{}点的回忆：{}]'.format(str(global_time), '我会接着移动到{}.'.format(place_ratings_sorted[0][0]))\n",
        "    compressed_memories_all[name].append(new_recollection)\n",
        "  locations[name] = place_ratings_sorted[0][0]\n"
      ],
      "metadata": {
        "id": "crD2ogLjzm6c"
      },
      "execution_count": null,
      "outputs": []
    },
    {
      "cell_type": "markdown",
      "source": [
        "# Put it all together"
      ],
      "metadata": {
        "id": "0rPlJg13F1rY"
      }
    },
    {
      "cell_type": "code",
      "source": [
        "for repeats in range(5):\n",
        "  global_time += 1\n",
        "  action_prompts = {}\n",
        "  for location in town_areas.keys():\n",
        "    people = []\n",
        "    for i in town_people.keys():\n",
        "      if locations[i] == location:\n",
        "        people.append(i)\n",
        "    \n",
        "    for name in people:\n",
        "      # prompt = \"You are {}. Your plans are: {}. You are currently in {} with the following description: {}. Your memories are: {}. It is currently {}:00. The following people are in this area: {}. You can interact with them.\".format(name, plans[name], location, town_areas[location], '\\n'.join(compressed_memories_all[name][-5:]), str(global_time), ', '.join(people))\n",
        "      prompt = \"你是{}。你的计划是：{}。你目前在{}，情况描述如下：{}。你的记忆是：{}。现在是{}点。以下人员在这个区域：{}。你可以与他们互动。\".format(name, plans[name], location, town_areas[location], '\\n'.join(compressed_memories_all[name][-5:]), str(global_time), ', '.join(people))\n",
        "      people_description = []\n",
        "      for i in people:\n",
        "        people_description.append(i+': '+town_people[i])\n",
        "      prompt += '你知道以下关于人的信息：' + '. '.join(people_description)\n",
        "      memory_text = '. '.join(memories[name][-10:])\n",
        "      prompt += \"使用不超过30个字，解释你接下来1小时要做什么。\"\n",
        "      action_prompts[name] = prompt\n",
        "  action_results = {}\n",
        "  for name in town_people.keys():\n",
        "    action_results[name] = generate(prompt_meta.format(action_prompts[name]))\n",
        "    # Now clean the action\n",
        "    prompt = \"\"\"\n",
        "    将以下段落转换为第一人称：\n",
        "    \"{}\"\n",
        "    \"\"\".format(action_results[name])\n",
        "    action_results[name] = generate(prompt_meta.format(prompt)).replace('\"', '').replace(\"'\", '')\n",
        "    print(name, locations[name], global_time, action_results[name])\n",
        "  action_emojis = {}\n",
        "  for name in town_people.keys():\n",
        "    prompt = \"\"\"\n",
        "    将下列段落转化成一个(行动, 物体)形式的tuple:\n",
        "    \"{}\"\n",
        "    \"\"\".format(action_results[name])\n",
        "    action_emojis[name] = generate(prompt_meta.format(prompt)).replace('\"', '').replace(\"'\", '')\n",
        "    print('    - Emoji Representation:', name, locations[name], global_time, action_emojis[name])\n",
        "  action_prompts = {}\n",
        "  for location in town_areas.keys():\n",
        "    people = []\n",
        "    for i in town_people.keys():\n",
        "      if locations[i] == location:\n",
        "        people.append(i)\n",
        "    \n",
        "    for name in people:\n",
        "      for name_two in people:\n",
        "        memories[name].append('[时间: {}. 人物: {}. 记忆: {}]\\n'.format(str(global_time), name_two, action_results[name_two]))\n",
        "\n",
        "  memory_ratings = {}\n",
        "  for name in town_people.keys():\n",
        "    memory_ratings[name] = []\n",
        "    for i, memory in enumerate(memories[name]):\n",
        "      prompt = \"你是 {}. 你的计划是: {}. 你目前在 {}. 现在的时间是 {}:00. 你注意到以下情况: {}. 请给一个1到5的评分，表示你在意程度。\".format(name, plans[name], '\\n'.join(compressed_memories_all[name][-5:]), locations[name], str(global_time), memory)\n",
        "      res = generate(prompt_meta.format(prompt))\n",
        "      rating = get_rating(res)\n",
        "      max_attempts = 2\n",
        "      current_attempt = 0\n",
        "      while rating is None and current_attempt<max_attempts:\n",
        "        rating = get_rating(res)\n",
        "        current_attempt += 1\n",
        "      if rating is None:\n",
        "        rating = 0\n",
        "      memory_ratings[name].append((res, rating))\n",
        "\n",
        "  compressed_memories = {}\n",
        "  for name in town_people.keys():\n",
        "    memories_sorted = sorted(\n",
        "          memory_ratings[name], \n",
        "          key=lambda x: x[1]\n",
        "      )[::-1]\n",
        "    relevant_memories = memories_sorted[:MEMORY_LIMIT]\n",
        "    memory_string_to_compress = '.'.join([a[0] for a in relevant_memories])\n",
        "    prompt = \"你是{}。你的计划是：{}。你目前在{}。现在是{}点。你注意到以下情况：{}。请用一句话总结这些记忆。\".format(name, plans[name], locations[name], str(global_time), memory_string_to_compress)\n",
        "    res = generate(prompt_meta.format(prompt))\n",
        "    compressed_memories[name] = '[{}点的回忆：{}]'.format(str(global_time), res)\n",
        "    compressed_memories_all[name].append(compressed_memories[name])\n",
        "\n",
        "  place_ratings = {}\n",
        "\n",
        "  for name in town_people.keys():\n",
        "    place_ratings[name] = []\n",
        "    for area in town_areas.keys():\n",
        "      prompt = \"你是{}。你的计划是：{}。你目前在{}。现在是{}点。你有以下的记忆：{}。请给一个1到5的评分表示你下一小时会有多大概率去到{}。\".format(name, plans[name], locations[name], str(global_time), compressed_memories[name], area)\n",
        "      res = generate(prompt_meta.format(prompt))\n",
        "      rating = get_rating(res)\n",
        "      max_attempts = 2\n",
        "      current_attempt = 0\n",
        "      while rating is None and current_attempt<max_attempts:\n",
        "        rating = get_rating(res)\n",
        "        current_attempt += 1\n",
        "      if rating is None:\n",
        "        rating = 0\n",
        "      place_ratings[name].append((area, rating, res))\n",
        "    place_ratings_sorted = sorted(\n",
        "        place_ratings[name], \n",
        "        key=lambda x: x[1] )[::-1]\n",
        "    if place_ratings_sorted[0][0] != locations[name]:\n",
        "      new_recollection = '[{}点的回忆：{}]'.format(str(global_time), '我会接着移动到{}.'.format(place_ratings_sorted[0][0]))\n",
        "      compressed_memories_all[name].append(new_recollection)\n",
        "    locations[name] = place_ratings_sorted[0][0]\n"
      ],
      "metadata": {
        "colab": {
          "base_uri": "https://localhost:8080/",
          "height": 820
        },
        "id": "h_ic4rpaF5Ui",
        "outputId": "38f11235-3d66-4390-b754-9eb6449211be"
      },
      "execution_count": null,
      "outputs": [
        {
          "output_type": "stream",
          "name": "stdout",
          "text": [
            "Toblen Stonehill 芬德林镇广场 9 我会去探索小镇，了解当地景点和人物，寻找商机，并注意避免冲突。\n",
            "Daran Edermath 奥德利夫农场 9 我将探索奥德利夫农场，与Qelline Alderleaf交流，了解当地信息和居民，询问Daran Edermath关于他的冒险经历和故乡的事情，尝试建立友好关系，增加参考价值和安全性情况。\n",
            "Linene Graywind 芬德林镇广场 9 我会向Toblen Stonehill询问他的贸易站的位置，并前往寻找Linene Graywind经营的贸易站。\n",
            "Halia Thornton 芬德林镇广场 9 我会与Toblen Stonehill交流，了解当地贸易情况，然后前往矿工交易所与Halia Thornton联系，探索有价值的信息和机会。我会保持警惕，避免与红袍恶棍团伙成员发生冲突。\n",
            "Qelline Alderleaf 芬德林镇广场 9 我需要与Qelline Alderleaf交谈，以获取关于芬德林镇的重要信息，并且需要注意观察时间和其他人物。\n",
            "Sister Garaele 芬德林镇广场 9 我将与当地哈珀协会联系，询问情报和帮助，并保持警惕。\n",
            "Harbin Wester 芬德林镇广场 9 我将与Toblen Stonehill交谈，收集有关我们城镇和红袍恶棍团伙的情报，然后前往当地的矿工交易所与Halia Thornton交谈，再去Qelline Alderleaf的农场了解一些我们这个地区的问题。\n",
            "Terrill Bloodscar 芬德林镇广场 9 我会观察周围环境，避开红袍恶棍团伙成员，与当地哈珀协会联系收集情报，考虑与目标计划交谈。\n",
            "Conrad Scarface 芬德林镇广场 9 我与当地居民交流以收集线索，避免与Conrad Scarface及其团伙交战。\n",
            "Nellie Starsmith 芬德林镇广场 9 我会谨慎避开红袍恶棍团伙的成员，尽可能地收集情报，并联系当地协会获取帮助。\n",
            "Valerie Grinblade 芬德林镇广场 9 我会先离开广场，避开Valerie Grinblade和其他红袍恶棍团伙成员。然后，我会与市中心的居民互动，了解情况和寻找商机，并考虑前往Toblen Stonehill或Linene Graywind的贸易站。\n",
            "    - Emoji Representation: Toblen Stonehill 芬德林镇广场 9 (探索, 小镇)\n",
            "    - Emoji Representation: Daran Edermath 奥德利夫农场 9 ((探索, 奥德利夫农场), (交流, Qelline Alderleaf), (了解, 当地信息和居民), (询问, Daran Edermath关于他的冒险经历和故乡的事情), (尝试建立, 友好关系), (增加, 参考价值和安全性情况))\n",
            "    - Emoji Representation: Linene Graywind 芬德林镇广场 9 (向Toblen Stonehill询问贸易站的位置, 前往寻找Linene Graywind经营的贸易站)\n",
            "    - Emoji Representation: Halia Thornton 芬德林镇广场 9 ((与Toblen Stonehill交流, 无), (前往矿工交易所, 无), (联系Halia Thornton, 无), (探索有价值的信息和机会, 无), (保持警惕, 无), (避免与红袍恶棍团伙成员发生冲突, 无))\n",
            "    - Emoji Representation: Qelline Alderleaf 芬德林镇广场 9 (与Qelline Alderleaf交谈, 获取关于芬德林镇的重要信息)\n",
            "    - Emoji Representation: Sister Garaele 芬德林镇广场 9 (联系, 当地哈珀协会)\n",
            "    - Emoji Representation: Harbin Wester 芬德林镇广场 9 ((与Toblen Stonehill交谈, None), (收集有关我们城镇和红袍恶棍团伙的情报, None), (前往当地的矿工交易所, None), (与Halia Thornton交谈, None), (去Qelline Alderleaf的农场了解一些我们这个地区的问题, None))\n",
            "    - Emoji Representation: Terrill Bloodscar 芬德林镇广场 9 ((观察, 周围环境), (避开, 红袍恶棍团伙成员), (联系, 当地哈珀协会), (收集, 情报), (考虑, 与目标计划交谈))\n",
            "    - Emoji Representation: Conrad Scarface 芬德林镇广场 9 (收集线索, 当地居民)\n",
            "    - Emoji Representation: Nellie Starsmith 芬德林镇广场 9 (收集情报, 红袍恶棍团伙的成员)\n",
            "    - Emoji Representation: Valerie Grinblade 芬德林镇广场 9 (离开广场, None), (与居民互动, 情况和商机), (前往贸易站, Toblen Stonehill或Linene Graywind)\n"
          ]
        },
        {
          "output_type": "error",
          "ename": "KeyboardInterrupt",
          "evalue": "ignored",
          "traceback": [
            "\u001b[0;31m---------------------------------------------------------------------------\u001b[0m",
            "\u001b[0;31mKeyboardInterrupt\u001b[0m                         Traceback (most recent call last)",
            "\u001b[0;32m<ipython-input-59-40af800e89bc>\u001b[0m in \u001b[0;36m<cell line: 1>\u001b[0;34m()\u001b[0m\n\u001b[1;32m     52\u001b[0m     \u001b[0;32mfor\u001b[0m \u001b[0mi\u001b[0m\u001b[0;34m,\u001b[0m \u001b[0mmemory\u001b[0m \u001b[0;32min\u001b[0m \u001b[0menumerate\u001b[0m\u001b[0;34m(\u001b[0m\u001b[0mmemories\u001b[0m\u001b[0;34m[\u001b[0m\u001b[0mname\u001b[0m\u001b[0;34m]\u001b[0m\u001b[0;34m)\u001b[0m\u001b[0;34m:\u001b[0m\u001b[0;34m\u001b[0m\u001b[0;34m\u001b[0m\u001b[0m\n\u001b[1;32m     53\u001b[0m       \u001b[0mprompt\u001b[0m \u001b[0;34m=\u001b[0m \u001b[0;34m\"你是 {}. 你的计划是: {}. 你目前在 {}. 现在的时间是 {}:00. 你注意到以下情况: {}. 请给一个1到5的评分，表示你在意程度。\"\u001b[0m\u001b[0;34m.\u001b[0m\u001b[0mformat\u001b[0m\u001b[0;34m(\u001b[0m\u001b[0mname\u001b[0m\u001b[0;34m,\u001b[0m \u001b[0mplans\u001b[0m\u001b[0;34m[\u001b[0m\u001b[0mname\u001b[0m\u001b[0;34m]\u001b[0m\u001b[0;34m,\u001b[0m \u001b[0;34m'\\n'\u001b[0m\u001b[0;34m.\u001b[0m\u001b[0mjoin\u001b[0m\u001b[0;34m(\u001b[0m\u001b[0mcompressed_memories_all\u001b[0m\u001b[0;34m[\u001b[0m\u001b[0mname\u001b[0m\u001b[0;34m]\u001b[0m\u001b[0;34m[\u001b[0m\u001b[0;34m-\u001b[0m\u001b[0;36m5\u001b[0m\u001b[0;34m:\u001b[0m\u001b[0;34m]\u001b[0m\u001b[0;34m)\u001b[0m\u001b[0;34m,\u001b[0m \u001b[0mlocations\u001b[0m\u001b[0;34m[\u001b[0m\u001b[0mname\u001b[0m\u001b[0;34m]\u001b[0m\u001b[0;34m,\u001b[0m \u001b[0mstr\u001b[0m\u001b[0;34m(\u001b[0m\u001b[0mglobal_time\u001b[0m\u001b[0;34m)\u001b[0m\u001b[0;34m,\u001b[0m \u001b[0mmemory\u001b[0m\u001b[0;34m)\u001b[0m\u001b[0;34m\u001b[0m\u001b[0;34m\u001b[0m\u001b[0m\n\u001b[0;32m---> 54\u001b[0;31m       \u001b[0mres\u001b[0m \u001b[0;34m=\u001b[0m \u001b[0mgenerate\u001b[0m\u001b[0;34m(\u001b[0m\u001b[0mprompt_meta\u001b[0m\u001b[0;34m.\u001b[0m\u001b[0mformat\u001b[0m\u001b[0;34m(\u001b[0m\u001b[0mprompt\u001b[0m\u001b[0;34m)\u001b[0m\u001b[0;34m)\u001b[0m\u001b[0;34m\u001b[0m\u001b[0;34m\u001b[0m\u001b[0m\n\u001b[0m\u001b[1;32m     55\u001b[0m       \u001b[0mrating\u001b[0m \u001b[0;34m=\u001b[0m \u001b[0mget_rating\u001b[0m\u001b[0;34m(\u001b[0m\u001b[0mres\u001b[0m\u001b[0;34m)\u001b[0m\u001b[0;34m\u001b[0m\u001b[0;34m\u001b[0m\u001b[0m\n\u001b[1;32m     56\u001b[0m       \u001b[0mmax_attempts\u001b[0m \u001b[0;34m=\u001b[0m \u001b[0;36m2\u001b[0m\u001b[0;34m\u001b[0m\u001b[0;34m\u001b[0m\u001b[0m\n",
            "\u001b[0;32m<ipython-input-48-ad26ff98a2b3>\u001b[0m in \u001b[0;36mgenerate\u001b[0;34m(prompt, use_openai)\u001b[0m\n\u001b[1;32m     22\u001b[0m \u001b[0;34m\u001b[0m\u001b[0m\n\u001b[1;32m     23\u001b[0m         \u001b[0mmodel_engine\u001b[0m \u001b[0;34m=\u001b[0m \u001b[0;34m\"gpt-3.5-turbo\"\u001b[0m\u001b[0;34m\u001b[0m\u001b[0;34m\u001b[0m\u001b[0m\n\u001b[0;32m---> 24\u001b[0;31m         completion = openai.ChatCompletion.create(\n\u001b[0m\u001b[1;32m     25\u001b[0m           \u001b[0mmodel\u001b[0m\u001b[0;34m=\u001b[0m \u001b[0mmodel_engine\u001b[0m\u001b[0;34m,\u001b[0m\u001b[0;34m\u001b[0m\u001b[0;34m\u001b[0m\u001b[0m\n\u001b[1;32m     26\u001b[0m           messages=[\n",
            "\u001b[0;32m/usr/local/lib/python3.9/dist-packages/openai/api_resources/chat_completion.py\u001b[0m in \u001b[0;36mcreate\u001b[0;34m(cls, *args, **kwargs)\u001b[0m\n\u001b[1;32m     23\u001b[0m         \u001b[0;32mwhile\u001b[0m \u001b[0;32mTrue\u001b[0m\u001b[0;34m:\u001b[0m\u001b[0;34m\u001b[0m\u001b[0;34m\u001b[0m\u001b[0m\n\u001b[1;32m     24\u001b[0m             \u001b[0;32mtry\u001b[0m\u001b[0;34m:\u001b[0m\u001b[0;34m\u001b[0m\u001b[0;34m\u001b[0m\u001b[0m\n\u001b[0;32m---> 25\u001b[0;31m                 \u001b[0;32mreturn\u001b[0m \u001b[0msuper\u001b[0m\u001b[0;34m(\u001b[0m\u001b[0;34m)\u001b[0m\u001b[0;34m.\u001b[0m\u001b[0mcreate\u001b[0m\u001b[0;34m(\u001b[0m\u001b[0;34m*\u001b[0m\u001b[0margs\u001b[0m\u001b[0;34m,\u001b[0m \u001b[0;34m**\u001b[0m\u001b[0mkwargs\u001b[0m\u001b[0;34m)\u001b[0m\u001b[0;34m\u001b[0m\u001b[0;34m\u001b[0m\u001b[0m\n\u001b[0m\u001b[1;32m     26\u001b[0m             \u001b[0;32mexcept\u001b[0m \u001b[0mTryAgain\u001b[0m \u001b[0;32mas\u001b[0m \u001b[0me\u001b[0m\u001b[0;34m:\u001b[0m\u001b[0;34m\u001b[0m\u001b[0;34m\u001b[0m\u001b[0m\n\u001b[1;32m     27\u001b[0m                 \u001b[0;32mif\u001b[0m \u001b[0mtimeout\u001b[0m \u001b[0;32mis\u001b[0m \u001b[0;32mnot\u001b[0m \u001b[0;32mNone\u001b[0m \u001b[0;32mand\u001b[0m \u001b[0mtime\u001b[0m\u001b[0;34m.\u001b[0m\u001b[0mtime\u001b[0m\u001b[0;34m(\u001b[0m\u001b[0;34m)\u001b[0m \u001b[0;34m>\u001b[0m \u001b[0mstart\u001b[0m \u001b[0;34m+\u001b[0m \u001b[0mtimeout\u001b[0m\u001b[0;34m:\u001b[0m\u001b[0;34m\u001b[0m\u001b[0;34m\u001b[0m\u001b[0m\n",
            "\u001b[0;32m/usr/local/lib/python3.9/dist-packages/openai/api_resources/abstract/engine_api_resource.py\u001b[0m in \u001b[0;36mcreate\u001b[0;34m(cls, api_key, api_base, api_type, request_id, api_version, organization, **params)\u001b[0m\n\u001b[1;32m    151\u001b[0m         )\n\u001b[1;32m    152\u001b[0m \u001b[0;34m\u001b[0m\u001b[0m\n\u001b[0;32m--> 153\u001b[0;31m         response, _, api_key = requestor.request(\n\u001b[0m\u001b[1;32m    154\u001b[0m             \u001b[0;34m\"post\"\u001b[0m\u001b[0;34m,\u001b[0m\u001b[0;34m\u001b[0m\u001b[0;34m\u001b[0m\u001b[0m\n\u001b[1;32m    155\u001b[0m             \u001b[0murl\u001b[0m\u001b[0;34m,\u001b[0m\u001b[0;34m\u001b[0m\u001b[0;34m\u001b[0m\u001b[0m\n",
            "\u001b[0;32m/usr/local/lib/python3.9/dist-packages/openai/api_requestor.py\u001b[0m in \u001b[0;36mrequest\u001b[0;34m(self, method, url, params, headers, files, stream, request_id, request_timeout)\u001b[0m\n\u001b[1;32m    214\u001b[0m         \u001b[0mrequest_timeout\u001b[0m\u001b[0;34m:\u001b[0m \u001b[0mOptional\u001b[0m\u001b[0;34m[\u001b[0m\u001b[0mUnion\u001b[0m\u001b[0;34m[\u001b[0m\u001b[0mfloat\u001b[0m\u001b[0;34m,\u001b[0m \u001b[0mTuple\u001b[0m\u001b[0;34m[\u001b[0m\u001b[0mfloat\u001b[0m\u001b[0;34m,\u001b[0m \u001b[0mfloat\u001b[0m\u001b[0;34m]\u001b[0m\u001b[0;34m]\u001b[0m\u001b[0;34m]\u001b[0m \u001b[0;34m=\u001b[0m \u001b[0;32mNone\u001b[0m\u001b[0;34m,\u001b[0m\u001b[0;34m\u001b[0m\u001b[0;34m\u001b[0m\u001b[0m\n\u001b[1;32m    215\u001b[0m     ) -> Tuple[Union[OpenAIResponse, Iterator[OpenAIResponse]], bool, str]:\n\u001b[0;32m--> 216\u001b[0;31m         result = self.request_raw(\n\u001b[0m\u001b[1;32m    217\u001b[0m             \u001b[0mmethod\u001b[0m\u001b[0;34m.\u001b[0m\u001b[0mlower\u001b[0m\u001b[0;34m(\u001b[0m\u001b[0;34m)\u001b[0m\u001b[0;34m,\u001b[0m\u001b[0;34m\u001b[0m\u001b[0;34m\u001b[0m\u001b[0m\n\u001b[1;32m    218\u001b[0m             \u001b[0murl\u001b[0m\u001b[0;34m,\u001b[0m\u001b[0;34m\u001b[0m\u001b[0;34m\u001b[0m\u001b[0m\n",
            "\u001b[0;32m/usr/local/lib/python3.9/dist-packages/openai/api_requestor.py\u001b[0m in \u001b[0;36mrequest_raw\u001b[0;34m(self, method, url, params, supplied_headers, files, stream, request_id, request_timeout)\u001b[0m\n\u001b[1;32m    514\u001b[0m             \u001b[0m_thread_context\u001b[0m\u001b[0;34m.\u001b[0m\u001b[0msession\u001b[0m \u001b[0;34m=\u001b[0m \u001b[0m_make_session\u001b[0m\u001b[0;34m(\u001b[0m\u001b[0;34m)\u001b[0m\u001b[0;34m\u001b[0m\u001b[0;34m\u001b[0m\u001b[0m\n\u001b[1;32m    515\u001b[0m         \u001b[0;32mtry\u001b[0m\u001b[0;34m:\u001b[0m\u001b[0;34m\u001b[0m\u001b[0;34m\u001b[0m\u001b[0m\n\u001b[0;32m--> 516\u001b[0;31m             result = _thread_context.session.request(\n\u001b[0m\u001b[1;32m    517\u001b[0m                 \u001b[0mmethod\u001b[0m\u001b[0;34m,\u001b[0m\u001b[0;34m\u001b[0m\u001b[0;34m\u001b[0m\u001b[0m\n\u001b[1;32m    518\u001b[0m                 \u001b[0mabs_url\u001b[0m\u001b[0;34m,\u001b[0m\u001b[0;34m\u001b[0m\u001b[0;34m\u001b[0m\u001b[0m\n",
            "\u001b[0;32m/usr/local/lib/python3.9/dist-packages/requests/sessions.py\u001b[0m in \u001b[0;36mrequest\u001b[0;34m(self, method, url, params, data, headers, cookies, files, auth, timeout, allow_redirects, proxies, hooks, stream, verify, cert, json)\u001b[0m\n\u001b[1;32m    527\u001b[0m         }\n\u001b[1;32m    528\u001b[0m         \u001b[0msend_kwargs\u001b[0m\u001b[0;34m.\u001b[0m\u001b[0mupdate\u001b[0m\u001b[0;34m(\u001b[0m\u001b[0msettings\u001b[0m\u001b[0;34m)\u001b[0m\u001b[0;34m\u001b[0m\u001b[0;34m\u001b[0m\u001b[0m\n\u001b[0;32m--> 529\u001b[0;31m         \u001b[0mresp\u001b[0m \u001b[0;34m=\u001b[0m \u001b[0mself\u001b[0m\u001b[0;34m.\u001b[0m\u001b[0msend\u001b[0m\u001b[0;34m(\u001b[0m\u001b[0mprep\u001b[0m\u001b[0;34m,\u001b[0m \u001b[0;34m**\u001b[0m\u001b[0msend_kwargs\u001b[0m\u001b[0;34m)\u001b[0m\u001b[0;34m\u001b[0m\u001b[0;34m\u001b[0m\u001b[0m\n\u001b[0m\u001b[1;32m    530\u001b[0m \u001b[0;34m\u001b[0m\u001b[0m\n\u001b[1;32m    531\u001b[0m         \u001b[0;32mreturn\u001b[0m \u001b[0mresp\u001b[0m\u001b[0;34m\u001b[0m\u001b[0;34m\u001b[0m\u001b[0m\n",
            "\u001b[0;32m/usr/local/lib/python3.9/dist-packages/requests/sessions.py\u001b[0m in \u001b[0;36msend\u001b[0;34m(self, request, **kwargs)\u001b[0m\n\u001b[1;32m    643\u001b[0m \u001b[0;34m\u001b[0m\u001b[0m\n\u001b[1;32m    644\u001b[0m         \u001b[0;31m# Send the request\u001b[0m\u001b[0;34m\u001b[0m\u001b[0;34m\u001b[0m\u001b[0m\n\u001b[0;32m--> 645\u001b[0;31m         \u001b[0mr\u001b[0m \u001b[0;34m=\u001b[0m \u001b[0madapter\u001b[0m\u001b[0;34m.\u001b[0m\u001b[0msend\u001b[0m\u001b[0;34m(\u001b[0m\u001b[0mrequest\u001b[0m\u001b[0;34m,\u001b[0m \u001b[0;34m**\u001b[0m\u001b[0mkwargs\u001b[0m\u001b[0;34m)\u001b[0m\u001b[0;34m\u001b[0m\u001b[0;34m\u001b[0m\u001b[0m\n\u001b[0m\u001b[1;32m    646\u001b[0m \u001b[0;34m\u001b[0m\u001b[0m\n\u001b[1;32m    647\u001b[0m         \u001b[0;31m# Total elapsed time of the request (approximately)\u001b[0m\u001b[0;34m\u001b[0m\u001b[0;34m\u001b[0m\u001b[0m\n",
            "\u001b[0;32m/usr/local/lib/python3.9/dist-packages/requests/adapters.py\u001b[0m in \u001b[0;36msend\u001b[0;34m(self, request, stream, timeout, verify, cert, proxies)\u001b[0m\n\u001b[1;32m    438\u001b[0m         \u001b[0;32mtry\u001b[0m\u001b[0;34m:\u001b[0m\u001b[0;34m\u001b[0m\u001b[0;34m\u001b[0m\u001b[0m\n\u001b[1;32m    439\u001b[0m             \u001b[0;32mif\u001b[0m \u001b[0;32mnot\u001b[0m \u001b[0mchunked\u001b[0m\u001b[0;34m:\u001b[0m\u001b[0;34m\u001b[0m\u001b[0;34m\u001b[0m\u001b[0m\n\u001b[0;32m--> 440\u001b[0;31m                 resp = conn.urlopen(\n\u001b[0m\u001b[1;32m    441\u001b[0m                     \u001b[0mmethod\u001b[0m\u001b[0;34m=\u001b[0m\u001b[0mrequest\u001b[0m\u001b[0;34m.\u001b[0m\u001b[0mmethod\u001b[0m\u001b[0;34m,\u001b[0m\u001b[0;34m\u001b[0m\u001b[0;34m\u001b[0m\u001b[0m\n\u001b[1;32m    442\u001b[0m                     \u001b[0murl\u001b[0m\u001b[0;34m=\u001b[0m\u001b[0murl\u001b[0m\u001b[0;34m,\u001b[0m\u001b[0;34m\u001b[0m\u001b[0;34m\u001b[0m\u001b[0m\n",
            "\u001b[0;32m/usr/local/lib/python3.9/dist-packages/urllib3/connectionpool.py\u001b[0m in \u001b[0;36murlopen\u001b[0;34m(self, method, url, body, headers, retries, redirect, assert_same_host, timeout, pool_timeout, release_conn, chunked, body_pos, **response_kw)\u001b[0m\n\u001b[1;32m    701\u001b[0m \u001b[0;34m\u001b[0m\u001b[0m\n\u001b[1;32m    702\u001b[0m             \u001b[0;31m# Make the request on the httplib connection object.\u001b[0m\u001b[0;34m\u001b[0m\u001b[0;34m\u001b[0m\u001b[0m\n\u001b[0;32m--> 703\u001b[0;31m             httplib_response = self._make_request(\n\u001b[0m\u001b[1;32m    704\u001b[0m                 \u001b[0mconn\u001b[0m\u001b[0;34m,\u001b[0m\u001b[0;34m\u001b[0m\u001b[0;34m\u001b[0m\u001b[0m\n\u001b[1;32m    705\u001b[0m                 \u001b[0mmethod\u001b[0m\u001b[0;34m,\u001b[0m\u001b[0;34m\u001b[0m\u001b[0;34m\u001b[0m\u001b[0m\n",
            "\u001b[0;32m/usr/local/lib/python3.9/dist-packages/urllib3/connectionpool.py\u001b[0m in \u001b[0;36m_make_request\u001b[0;34m(self, conn, method, url, timeout, chunked, **httplib_request_kw)\u001b[0m\n\u001b[1;32m    447\u001b[0m                     \u001b[0;31m# Python 3 (including for exceptions like SystemExit).\u001b[0m\u001b[0;34m\u001b[0m\u001b[0;34m\u001b[0m\u001b[0m\n\u001b[1;32m    448\u001b[0m                     \u001b[0;31m# Otherwise it looks like a bug in the code.\u001b[0m\u001b[0;34m\u001b[0m\u001b[0;34m\u001b[0m\u001b[0m\n\u001b[0;32m--> 449\u001b[0;31m                     \u001b[0msix\u001b[0m\u001b[0;34m.\u001b[0m\u001b[0mraise_from\u001b[0m\u001b[0;34m(\u001b[0m\u001b[0me\u001b[0m\u001b[0;34m,\u001b[0m \u001b[0;32mNone\u001b[0m\u001b[0;34m)\u001b[0m\u001b[0;34m\u001b[0m\u001b[0;34m\u001b[0m\u001b[0m\n\u001b[0m\u001b[1;32m    450\u001b[0m         \u001b[0;32mexcept\u001b[0m \u001b[0;34m(\u001b[0m\u001b[0mSocketTimeout\u001b[0m\u001b[0;34m,\u001b[0m \u001b[0mBaseSSLError\u001b[0m\u001b[0;34m,\u001b[0m \u001b[0mSocketError\u001b[0m\u001b[0;34m)\u001b[0m \u001b[0;32mas\u001b[0m \u001b[0me\u001b[0m\u001b[0;34m:\u001b[0m\u001b[0;34m\u001b[0m\u001b[0;34m\u001b[0m\u001b[0m\n\u001b[1;32m    451\u001b[0m             \u001b[0mself\u001b[0m\u001b[0;34m.\u001b[0m\u001b[0m_raise_timeout\u001b[0m\u001b[0;34m(\u001b[0m\u001b[0merr\u001b[0m\u001b[0;34m=\u001b[0m\u001b[0me\u001b[0m\u001b[0;34m,\u001b[0m \u001b[0murl\u001b[0m\u001b[0;34m=\u001b[0m\u001b[0murl\u001b[0m\u001b[0;34m,\u001b[0m \u001b[0mtimeout_value\u001b[0m\u001b[0;34m=\u001b[0m\u001b[0mread_timeout\u001b[0m\u001b[0;34m)\u001b[0m\u001b[0;34m\u001b[0m\u001b[0;34m\u001b[0m\u001b[0m\n",
            "\u001b[0;32m/usr/local/lib/python3.9/dist-packages/urllib3/packages/six.py\u001b[0m in \u001b[0;36mraise_from\u001b[0;34m(value, from_value)\u001b[0m\n",
            "\u001b[0;32m/usr/local/lib/python3.9/dist-packages/urllib3/connectionpool.py\u001b[0m in \u001b[0;36m_make_request\u001b[0;34m(self, conn, method, url, timeout, chunked, **httplib_request_kw)\u001b[0m\n\u001b[1;32m    442\u001b[0m                 \u001b[0;31m# Python 3\u001b[0m\u001b[0;34m\u001b[0m\u001b[0;34m\u001b[0m\u001b[0m\n\u001b[1;32m    443\u001b[0m                 \u001b[0;32mtry\u001b[0m\u001b[0;34m:\u001b[0m\u001b[0;34m\u001b[0m\u001b[0;34m\u001b[0m\u001b[0m\n\u001b[0;32m--> 444\u001b[0;31m                     \u001b[0mhttplib_response\u001b[0m \u001b[0;34m=\u001b[0m \u001b[0mconn\u001b[0m\u001b[0;34m.\u001b[0m\u001b[0mgetresponse\u001b[0m\u001b[0;34m(\u001b[0m\u001b[0;34m)\u001b[0m\u001b[0;34m\u001b[0m\u001b[0;34m\u001b[0m\u001b[0m\n\u001b[0m\u001b[1;32m    445\u001b[0m                 \u001b[0;32mexcept\u001b[0m \u001b[0mBaseException\u001b[0m \u001b[0;32mas\u001b[0m \u001b[0me\u001b[0m\u001b[0;34m:\u001b[0m\u001b[0;34m\u001b[0m\u001b[0;34m\u001b[0m\u001b[0m\n\u001b[1;32m    446\u001b[0m                     \u001b[0;31m# Remove the TypeError from the exception chain in\u001b[0m\u001b[0;34m\u001b[0m\u001b[0;34m\u001b[0m\u001b[0m\n",
            "\u001b[0;32m/usr/lib/python3.9/http/client.py\u001b[0m in \u001b[0;36mgetresponse\u001b[0;34m(self)\u001b[0m\n\u001b[1;32m   1375\u001b[0m         \u001b[0;32mtry\u001b[0m\u001b[0;34m:\u001b[0m\u001b[0;34m\u001b[0m\u001b[0;34m\u001b[0m\u001b[0m\n\u001b[1;32m   1376\u001b[0m             \u001b[0;32mtry\u001b[0m\u001b[0;34m:\u001b[0m\u001b[0;34m\u001b[0m\u001b[0;34m\u001b[0m\u001b[0m\n\u001b[0;32m-> 1377\u001b[0;31m                 \u001b[0mresponse\u001b[0m\u001b[0;34m.\u001b[0m\u001b[0mbegin\u001b[0m\u001b[0;34m(\u001b[0m\u001b[0;34m)\u001b[0m\u001b[0;34m\u001b[0m\u001b[0;34m\u001b[0m\u001b[0m\n\u001b[0m\u001b[1;32m   1378\u001b[0m             \u001b[0;32mexcept\u001b[0m \u001b[0mConnectionError\u001b[0m\u001b[0;34m:\u001b[0m\u001b[0;34m\u001b[0m\u001b[0;34m\u001b[0m\u001b[0m\n\u001b[1;32m   1379\u001b[0m                 \u001b[0mself\u001b[0m\u001b[0;34m.\u001b[0m\u001b[0mclose\u001b[0m\u001b[0;34m(\u001b[0m\u001b[0;34m)\u001b[0m\u001b[0;34m\u001b[0m\u001b[0;34m\u001b[0m\u001b[0m\n",
            "\u001b[0;32m/usr/lib/python3.9/http/client.py\u001b[0m in \u001b[0;36mbegin\u001b[0;34m(self)\u001b[0m\n\u001b[1;32m    318\u001b[0m         \u001b[0;31m# read until we get a non-100 response\u001b[0m\u001b[0;34m\u001b[0m\u001b[0;34m\u001b[0m\u001b[0m\n\u001b[1;32m    319\u001b[0m         \u001b[0;32mwhile\u001b[0m \u001b[0;32mTrue\u001b[0m\u001b[0;34m:\u001b[0m\u001b[0;34m\u001b[0m\u001b[0;34m\u001b[0m\u001b[0m\n\u001b[0;32m--> 320\u001b[0;31m             \u001b[0mversion\u001b[0m\u001b[0;34m,\u001b[0m \u001b[0mstatus\u001b[0m\u001b[0;34m,\u001b[0m \u001b[0mreason\u001b[0m \u001b[0;34m=\u001b[0m \u001b[0mself\u001b[0m\u001b[0;34m.\u001b[0m\u001b[0m_read_status\u001b[0m\u001b[0;34m(\u001b[0m\u001b[0;34m)\u001b[0m\u001b[0;34m\u001b[0m\u001b[0;34m\u001b[0m\u001b[0m\n\u001b[0m\u001b[1;32m    321\u001b[0m             \u001b[0;32mif\u001b[0m \u001b[0mstatus\u001b[0m \u001b[0;34m!=\u001b[0m \u001b[0mCONTINUE\u001b[0m\u001b[0;34m:\u001b[0m\u001b[0;34m\u001b[0m\u001b[0;34m\u001b[0m\u001b[0m\n\u001b[1;32m    322\u001b[0m                 \u001b[0;32mbreak\u001b[0m\u001b[0;34m\u001b[0m\u001b[0;34m\u001b[0m\u001b[0m\n",
            "\u001b[0;32m/usr/lib/python3.9/http/client.py\u001b[0m in \u001b[0;36m_read_status\u001b[0;34m(self)\u001b[0m\n\u001b[1;32m    279\u001b[0m \u001b[0;34m\u001b[0m\u001b[0m\n\u001b[1;32m    280\u001b[0m     \u001b[0;32mdef\u001b[0m \u001b[0m_read_status\u001b[0m\u001b[0;34m(\u001b[0m\u001b[0mself\u001b[0m\u001b[0;34m)\u001b[0m\u001b[0;34m:\u001b[0m\u001b[0;34m\u001b[0m\u001b[0;34m\u001b[0m\u001b[0m\n\u001b[0;32m--> 281\u001b[0;31m         \u001b[0mline\u001b[0m \u001b[0;34m=\u001b[0m \u001b[0mstr\u001b[0m\u001b[0;34m(\u001b[0m\u001b[0mself\u001b[0m\u001b[0;34m.\u001b[0m\u001b[0mfp\u001b[0m\u001b[0;34m.\u001b[0m\u001b[0mreadline\u001b[0m\u001b[0;34m(\u001b[0m\u001b[0m_MAXLINE\u001b[0m \u001b[0;34m+\u001b[0m \u001b[0;36m1\u001b[0m\u001b[0;34m)\u001b[0m\u001b[0;34m,\u001b[0m \u001b[0;34m\"iso-8859-1\"\u001b[0m\u001b[0;34m)\u001b[0m\u001b[0;34m\u001b[0m\u001b[0;34m\u001b[0m\u001b[0m\n\u001b[0m\u001b[1;32m    282\u001b[0m         \u001b[0;32mif\u001b[0m \u001b[0mlen\u001b[0m\u001b[0;34m(\u001b[0m\u001b[0mline\u001b[0m\u001b[0;34m)\u001b[0m \u001b[0;34m>\u001b[0m \u001b[0m_MAXLINE\u001b[0m\u001b[0;34m:\u001b[0m\u001b[0;34m\u001b[0m\u001b[0;34m\u001b[0m\u001b[0m\n\u001b[1;32m    283\u001b[0m             \u001b[0;32mraise\u001b[0m \u001b[0mLineTooLong\u001b[0m\u001b[0;34m(\u001b[0m\u001b[0;34m\"status line\"\u001b[0m\u001b[0;34m)\u001b[0m\u001b[0;34m\u001b[0m\u001b[0;34m\u001b[0m\u001b[0m\n",
            "\u001b[0;32m/usr/lib/python3.9/socket.py\u001b[0m in \u001b[0;36mreadinto\u001b[0;34m(self, b)\u001b[0m\n\u001b[1;32m    702\u001b[0m         \u001b[0;32mwhile\u001b[0m \u001b[0;32mTrue\u001b[0m\u001b[0;34m:\u001b[0m\u001b[0;34m\u001b[0m\u001b[0;34m\u001b[0m\u001b[0m\n\u001b[1;32m    703\u001b[0m             \u001b[0;32mtry\u001b[0m\u001b[0;34m:\u001b[0m\u001b[0;34m\u001b[0m\u001b[0;34m\u001b[0m\u001b[0m\n\u001b[0;32m--> 704\u001b[0;31m                 \u001b[0;32mreturn\u001b[0m \u001b[0mself\u001b[0m\u001b[0;34m.\u001b[0m\u001b[0m_sock\u001b[0m\u001b[0;34m.\u001b[0m\u001b[0mrecv_into\u001b[0m\u001b[0;34m(\u001b[0m\u001b[0mb\u001b[0m\u001b[0;34m)\u001b[0m\u001b[0;34m\u001b[0m\u001b[0;34m\u001b[0m\u001b[0m\n\u001b[0m\u001b[1;32m    705\u001b[0m             \u001b[0;32mexcept\u001b[0m \u001b[0mtimeout\u001b[0m\u001b[0;34m:\u001b[0m\u001b[0;34m\u001b[0m\u001b[0;34m\u001b[0m\u001b[0m\n\u001b[1;32m    706\u001b[0m                 \u001b[0mself\u001b[0m\u001b[0;34m.\u001b[0m\u001b[0m_timeout_occurred\u001b[0m \u001b[0;34m=\u001b[0m \u001b[0;32mTrue\u001b[0m\u001b[0;34m\u001b[0m\u001b[0;34m\u001b[0m\u001b[0m\n",
            "\u001b[0;32m/usr/lib/python3.9/ssl.py\u001b[0m in \u001b[0;36mrecv_into\u001b[0;34m(self, buffer, nbytes, flags)\u001b[0m\n\u001b[1;32m   1240\u001b[0m                   \u001b[0;34m\"non-zero flags not allowed in calls to recv_into() on %s\"\u001b[0m \u001b[0;34m%\u001b[0m\u001b[0;34m\u001b[0m\u001b[0;34m\u001b[0m\u001b[0m\n\u001b[1;32m   1241\u001b[0m                   self.__class__)\n\u001b[0;32m-> 1242\u001b[0;31m             \u001b[0;32mreturn\u001b[0m \u001b[0mself\u001b[0m\u001b[0;34m.\u001b[0m\u001b[0mread\u001b[0m\u001b[0;34m(\u001b[0m\u001b[0mnbytes\u001b[0m\u001b[0;34m,\u001b[0m \u001b[0mbuffer\u001b[0m\u001b[0;34m)\u001b[0m\u001b[0;34m\u001b[0m\u001b[0;34m\u001b[0m\u001b[0m\n\u001b[0m\u001b[1;32m   1243\u001b[0m         \u001b[0;32melse\u001b[0m\u001b[0;34m:\u001b[0m\u001b[0;34m\u001b[0m\u001b[0;34m\u001b[0m\u001b[0m\n\u001b[1;32m   1244\u001b[0m             \u001b[0;32mreturn\u001b[0m \u001b[0msuper\u001b[0m\u001b[0;34m(\u001b[0m\u001b[0;34m)\u001b[0m\u001b[0;34m.\u001b[0m\u001b[0mrecv_into\u001b[0m\u001b[0;34m(\u001b[0m\u001b[0mbuffer\u001b[0m\u001b[0;34m,\u001b[0m \u001b[0mnbytes\u001b[0m\u001b[0;34m,\u001b[0m \u001b[0mflags\u001b[0m\u001b[0;34m)\u001b[0m\u001b[0;34m\u001b[0m\u001b[0;34m\u001b[0m\u001b[0m\n",
            "\u001b[0;32m/usr/lib/python3.9/ssl.py\u001b[0m in \u001b[0;36mread\u001b[0;34m(self, len, buffer)\u001b[0m\n\u001b[1;32m   1098\u001b[0m         \u001b[0;32mtry\u001b[0m\u001b[0;34m:\u001b[0m\u001b[0;34m\u001b[0m\u001b[0;34m\u001b[0m\u001b[0m\n\u001b[1;32m   1099\u001b[0m             \u001b[0;32mif\u001b[0m \u001b[0mbuffer\u001b[0m \u001b[0;32mis\u001b[0m \u001b[0;32mnot\u001b[0m \u001b[0;32mNone\u001b[0m\u001b[0;34m:\u001b[0m\u001b[0;34m\u001b[0m\u001b[0;34m\u001b[0m\u001b[0m\n\u001b[0;32m-> 1100\u001b[0;31m                 \u001b[0;32mreturn\u001b[0m \u001b[0mself\u001b[0m\u001b[0;34m.\u001b[0m\u001b[0m_sslobj\u001b[0m\u001b[0;34m.\u001b[0m\u001b[0mread\u001b[0m\u001b[0;34m(\u001b[0m\u001b[0mlen\u001b[0m\u001b[0;34m,\u001b[0m \u001b[0mbuffer\u001b[0m\u001b[0;34m)\u001b[0m\u001b[0;34m\u001b[0m\u001b[0;34m\u001b[0m\u001b[0m\n\u001b[0m\u001b[1;32m   1101\u001b[0m             \u001b[0;32melse\u001b[0m\u001b[0;34m:\u001b[0m\u001b[0;34m\u001b[0m\u001b[0;34m\u001b[0m\u001b[0m\n\u001b[1;32m   1102\u001b[0m                 \u001b[0;32mreturn\u001b[0m \u001b[0mself\u001b[0m\u001b[0;34m.\u001b[0m\u001b[0m_sslobj\u001b[0m\u001b[0;34m.\u001b[0m\u001b[0mread\u001b[0m\u001b[0;34m(\u001b[0m\u001b[0mlen\u001b[0m\u001b[0;34m)\u001b[0m\u001b[0;34m\u001b[0m\u001b[0;34m\u001b[0m\u001b[0m\n",
            "\u001b[0;31mKeyboardInterrupt\u001b[0m: "
          ]
        }
      ]
    },
    {
      "cell_type": "code",
      "source": [],
      "metadata": {
        "id": "Fp2U9gEoaDgv"
      },
      "execution_count": null,
      "outputs": []
    }
  ]
}